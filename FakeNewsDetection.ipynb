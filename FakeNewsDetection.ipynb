{
 "cells": [
  {
   "cell_type": "markdown",
   "metadata": {},
   "source": [
    "# DataSet\n",
    "<p>I dowwnload a dataset from kaggle</p>\n",
    "<h3>About dataset<h3>\n",
    "<ol>\n",
    "<li>id = unique id of news article</li>\n",
    "<li>title = Title of news article</li>\n",
    "<li>author = Author of news article</li>\n",
    "<li>text = Text of news article</li>\n",
    "<li>lable = To mark news can be a real or fake</li>\n",
    "    <ol>\n",
    "     <li> 1 --> Real</li>\n",
    "     <li> 0 --> Fake </li>\n",
    "    </ol>\n",
    "<li>Our ouput is Binary nominal categorical ( only two outputs can be a possible)</li>\n",
    "<li>Our project is about Classification (Type Supervised Machine Learning)</li>\n",
    "</ol>"
   ]
  },
  {
   "cell_type": "markdown",
   "metadata": {},
   "source": [
    "## Import required modules"
   ]
  },
  {
   "cell_type": "code",
   "execution_count": null,
   "metadata": {},
   "outputs": [],
   "source": []
  },
  {
   "cell_type": "markdown",
   "metadata": {},
   "source": []
  }
 ],
 "metadata": {
  "language_info": {
   "name": "python"
  }
 },
 "nbformat": 4,
 "nbformat_minor": 2
}
